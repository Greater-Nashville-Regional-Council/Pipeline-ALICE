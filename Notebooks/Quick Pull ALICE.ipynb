{
 "cells": [
  {
   "cell_type": "code",
   "execution_count": 1,
   "id": "19fd1089",
   "metadata": {},
   "outputs": [],
   "source": [
    "import pandas as pd\n",
    "import numpy as np\n",
    "import requests\n",
    "import pickle\n",
    "from collections import deque\n",
    "from functools import reduce\n",
    "pd.set_option('display.max_columns', None)\n",
    "pd.set_option('display.max_rows', None)\n",
    "pd.set_option('display.width', 150)\n",
    "from warnings import simplefilter\n",
    "simplefilter(action=\"ignore\", category=pd.errors.PerformanceWarning)\n",
    "pd.options.mode.chained_assignment = None  # default='warn'\n",
    "import sqlite3 as sq\n",
    "from datetime import date"
   ]
  },
  {
   "cell_type": "markdown",
   "id": "03d98b86",
   "metadata": {},
   "source": [
    "Quick pull from county data"
   ]
  },
  {
   "cell_type": "code",
   "execution_count": 3,
   "id": "ed370070",
   "metadata": {},
   "outputs": [],
   "source": [
    "conn = sq.connect('../Outputs/ALICE.db')\n",
    "sql_query = pd.read_sql('SELECT * FROM [ALICE_County]', conn)\n",
    "county = pd.DataFrame(sql_query)"
   ]
  },
  {
   "cell_type": "code",
   "execution_count": null,
   "id": "90c90ce9",
   "metadata": {},
   "outputs": [],
   "source": [
    "#get the current date\n",
    "current_date = date.today()\n",
    "#format the date as a string (e.g., YYYY-MM-DD)\n",
    "date_string = current_date.strftime(\"%Y-%m-%d\")\n",
    "#match regular gnrc formatting\n",
    "date_string = date_string.replace(\"-\", \"\")\n",
    "#writeout\n",
    "#county.to_csv('../Outputs/Quick Pull/whateverdesc_department_{}.csv'.format(date_string), index = False)"
   ]
  },
  {
   "cell_type": "markdown",
   "id": "f00941cb",
   "metadata": {},
   "source": [
    "Quick pull from sub-county data"
   ]
  },
  {
   "cell_type": "code",
   "execution_count": 4,
   "id": "46cf069f",
   "metadata": {},
   "outputs": [],
   "source": [
    "conn = sq.connect('../Outputs/ALICE.db')\n",
    "sql_query = pd.read_sql('SELECT * FROM [ALICE_SubCounty]', conn)\n",
    "subcounty = pd.DataFrame(sql_query)"
   ]
  },
  {
   "cell_type": "code",
   "execution_count": null,
   "id": "487e6109",
   "metadata": {},
   "outputs": [],
   "source": [
    "#get the current date\n",
    "current_date = date.today()\n",
    "#format the date as a string (e.g., YYYY-MM-DD)\n",
    "date_string = current_date.strftime(\"%Y-%m-%d\")\n",
    "#match regular gnrc formatting\n",
    "date_string = date_string.replace(\"-\", \"\")\n",
    "#writeout\n",
    "#subcounty.to_csv('../Outputs/Quick Pull/whateverdesc_department_{}.csv'.format(date_string), index = False)"
   ]
  }
 ],
 "metadata": {
  "kernelspec": {
   "display_name": "Python 3 (ipykernel)",
   "language": "python",
   "name": "python3"
  },
  "language_info": {
   "codemirror_mode": {
    "name": "ipython",
    "version": 3
   },
   "file_extension": ".py",
   "mimetype": "text/x-python",
   "name": "python",
   "nbconvert_exporter": "python",
   "pygments_lexer": "ipython3",
   "version": "3.11.5"
  }
 },
 "nbformat": 4,
 "nbformat_minor": 5
}
