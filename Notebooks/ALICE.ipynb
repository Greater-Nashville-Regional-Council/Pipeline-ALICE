{
 "cells": [
  {
   "cell_type": "markdown",
   "id": "7124cf20",
   "metadata": {},
   "source": [
    "###### Imports and Settings"
   ]
  },
  {
   "cell_type": "code",
   "execution_count": 2,
   "id": "d008632f",
   "metadata": {},
   "outputs": [],
   "source": [
    "import pandas as pd\n",
    "import numpy as np\n",
    "import requests\n",
    "from functools import reduce\n",
    "import matplotlib.pyplot as plt\n",
    "import pickle\n",
    "pd.set_option('display.max_columns', None)\n",
    "pd.set_option('display.max_rows', None)\n",
    "pd.set_option('display.width', 150)\n",
    "import sys\n",
    "sys.path.append(\"../../Functions and Dictionaries\") # Adds higher directory to python modules path\n",
    "import geodict\n",
    "namestocommon = geodict.namestocommon\n",
    "geotogeoid = geodict.geotogeoid\n",
    "tofullcensus = geodict.tofullcensus\n",
    "import sqlite3 as sq"
   ]
  },
  {
   "cell_type": "markdown",
   "id": "2233c245",
   "metadata": {},
   "source": [
    "## ALICE United Way Data  \n",
    "Go to the following page: https://www.unitedforalice.org/state-overview/Tennessee to find the data sheet for the State of Tennessee  \n",
    "I've downloaded the file containing data from 2010 through 2022 and saved the two pages separately: Sub-County, Place, & Zip as well as County. This doesn't really take any cleaning so here I'm really just putting it into the SQLite Database."
   ]
  },
  {
   "cell_type": "code",
   "execution_count": 14,
   "id": "73293c2d",
   "metadata": {},
   "outputs": [],
   "source": [
    "county = pd.read_csv('../Data Downloads/ALICE_2010to2022_County.csv')"
   ]
  },
  {
   "cell_type": "code",
   "execution_count": 17,
   "id": "e8cfd74b",
   "metadata": {},
   "outputs": [
    {
     "data": {
      "text/html": [
       "<div>\n",
       "<style scoped>\n",
       "    .dataframe tbody tr th:only-of-type {\n",
       "        vertical-align: middle;\n",
       "    }\n",
       "\n",
       "    .dataframe tbody tr th {\n",
       "        vertical-align: top;\n",
       "    }\n",
       "\n",
       "    .dataframe thead th {\n",
       "        text-align: right;\n",
       "    }\n",
       "</style>\n",
       "<table border=\"1\" class=\"dataframe\">\n",
       "  <thead>\n",
       "    <tr style=\"text-align: right;\">\n",
       "      <th></th>\n",
       "      <th>Year</th>\n",
       "      <th>GEO_ID</th>\n",
       "      <th>NAME</th>\n",
       "      <th>County</th>\n",
       "      <th>State</th>\n",
       "      <th>State Abbr</th>\n",
       "      <th>Households</th>\n",
       "      <th>Poverty Households</th>\n",
       "      <th>ALICE Households</th>\n",
       "      <th>Above ALICE Households</th>\n",
       "      <th>ALICE Threshold - HH under 65</th>\n",
       "      <th>ALICE Threshold - HH 65 years and over</th>\n",
       "      <th>Source: American Community Survey</th>\n",
       "    </tr>\n",
       "  </thead>\n",
       "  <tbody>\n",
       "    <tr>\n",
       "      <th>0</th>\n",
       "      <td>2010</td>\n",
       "      <td>47001</td>\n",
       "      <td>Anderson County, Tennessee</td>\n",
       "      <td>Anderson</td>\n",
       "      <td>Tennessee</td>\n",
       "      <td>TN</td>\n",
       "      <td>30046</td>\n",
       "      <td>4010</td>\n",
       "      <td>8249</td>\n",
       "      <td>17787</td>\n",
       "      <td>40000.0</td>\n",
       "      <td>35000.0</td>\n",
       "      <td>1-Year</td>\n",
       "    </tr>\n",
       "    <tr>\n",
       "      <th>1</th>\n",
       "      <td>2012</td>\n",
       "      <td>47001</td>\n",
       "      <td>Anderson County, Tennessee</td>\n",
       "      <td>Anderson</td>\n",
       "      <td>Tennessee</td>\n",
       "      <td>TN</td>\n",
       "      <td>31019</td>\n",
       "      <td>5660</td>\n",
       "      <td>9524</td>\n",
       "      <td>15835</td>\n",
       "      <td>40000.0</td>\n",
       "      <td>35000.0</td>\n",
       "      <td>1-Year</td>\n",
       "    </tr>\n",
       "    <tr>\n",
       "      <th>2</th>\n",
       "      <td>2014</td>\n",
       "      <td>47001</td>\n",
       "      <td>Anderson County, Tennessee</td>\n",
       "      <td>Anderson</td>\n",
       "      <td>Tennessee</td>\n",
       "      <td>TN</td>\n",
       "      <td>30183</td>\n",
       "      <td>4129</td>\n",
       "      <td>10739</td>\n",
       "      <td>15315</td>\n",
       "      <td>50000.0</td>\n",
       "      <td>40000.0</td>\n",
       "      <td>1-Year</td>\n",
       "    </tr>\n",
       "    <tr>\n",
       "      <th>3</th>\n",
       "      <td>2016</td>\n",
       "      <td>47001</td>\n",
       "      <td>Anderson County, Tennessee</td>\n",
       "      <td>Anderson</td>\n",
       "      <td>Tennessee</td>\n",
       "      <td>TN</td>\n",
       "      <td>31209</td>\n",
       "      <td>4304</td>\n",
       "      <td>10462</td>\n",
       "      <td>16443</td>\n",
       "      <td>45000.0</td>\n",
       "      <td>40000.0</td>\n",
       "      <td>1-Year</td>\n",
       "    </tr>\n",
       "    <tr>\n",
       "      <th>4</th>\n",
       "      <td>2018</td>\n",
       "      <td>47001</td>\n",
       "      <td>Anderson County, Tennessee</td>\n",
       "      <td>Anderson</td>\n",
       "      <td>Tennessee</td>\n",
       "      <td>TN</td>\n",
       "      <td>29505</td>\n",
       "      <td>4893</td>\n",
       "      <td>9350</td>\n",
       "      <td>15262</td>\n",
       "      <td>50000.0</td>\n",
       "      <td>45000.0</td>\n",
       "      <td>1-Year</td>\n",
       "    </tr>\n",
       "  </tbody>\n",
       "</table>\n",
       "</div>"
      ],
      "text/plain": [
       "   Year  GEO_ID                        NAME    County      State State Abbr  Households  Poverty Households  ALICE Households  \\\n",
       "0  2010   47001  Anderson County, Tennessee  Anderson  Tennessee         TN       30046                4010              8249   \n",
       "1  2012   47001  Anderson County, Tennessee  Anderson  Tennessee         TN       31019                5660              9524   \n",
       "2  2014   47001  Anderson County, Tennessee  Anderson  Tennessee         TN       30183                4129             10739   \n",
       "3  2016   47001  Anderson County, Tennessee  Anderson  Tennessee         TN       31209                4304             10462   \n",
       "4  2018   47001  Anderson County, Tennessee  Anderson  Tennessee         TN       29505                4893              9350   \n",
       "\n",
       "   Above ALICE Households  ALICE Threshold - HH under 65  ALICE Threshold - HH 65 years and over Source: American Community Survey   \n",
       "0                   17787                        40000.0                                 35000.0                             1-Year  \n",
       "1                   15835                        40000.0                                 35000.0                             1-Year  \n",
       "2                   15315                        50000.0                                 40000.0                             1-Year  \n",
       "3                   16443                        45000.0                                 40000.0                             1-Year  \n",
       "4                   15262                        50000.0                                 45000.0                             1-Year  "
      ]
     },
     "execution_count": 17,
     "metadata": {},
     "output_type": "execute_result"
    }
   ],
   "source": [
    "county.head()"
   ]
  },
  {
   "cell_type": "code",
   "execution_count": 16,
   "id": "55caaab5",
   "metadata": {},
   "outputs": [],
   "source": [
    "dic = {'GEO.id2': 'GEO_ID', 'GEO.display_label': 'NAME'}\n",
    "county = county.rename(columns = dic)"
   ]
  },
  {
   "cell_type": "code",
   "execution_count": 18,
   "id": "62db5904",
   "metadata": {},
   "outputs": [
    {
     "data": {
      "text/plain": [
       "array([2010, 2012, 2014, 2016, 2018, 2019, 2021, 2022], dtype=int64)"
      ]
     },
     "execution_count": 18,
     "metadata": {},
     "output_type": "execute_result"
    }
   ],
   "source": [
    "county['Year'].unique()"
   ]
  },
  {
   "cell_type": "code",
   "execution_count": 19,
   "id": "a1482063",
   "metadata": {},
   "outputs": [],
   "source": [
    "sub = pd.read_csv('../Data Downloads/ALICE_2021to2022_SubCountyPlaceZip.csv')"
   ]
  },
  {
   "cell_type": "code",
   "execution_count": 23,
   "id": "eb17ce1f",
   "metadata": {},
   "outputs": [
    {
     "data": {
      "text/html": [
       "<div>\n",
       "<style scoped>\n",
       "    .dataframe tbody tr th:only-of-type {\n",
       "        vertical-align: middle;\n",
       "    }\n",
       "\n",
       "    .dataframe tbody tr th {\n",
       "        vertical-align: top;\n",
       "    }\n",
       "\n",
       "    .dataframe thead th {\n",
       "        text-align: right;\n",
       "    }\n",
       "</style>\n",
       "<table border=\"1\" class=\"dataframe\">\n",
       "  <thead>\n",
       "    <tr style=\"text-align: right;\">\n",
       "      <th></th>\n",
       "      <th>Geography type</th>\n",
       "      <th>Year</th>\n",
       "      <th>State</th>\n",
       "      <th>GEO_ID</th>\n",
       "      <th>NAME</th>\n",
       "      <th>Households</th>\n",
       "      <th>Poverty Households</th>\n",
       "      <th>ALICE Households</th>\n",
       "      <th>Above ALICE Households</th>\n",
       "      <th>Source: American Community Survey</th>\n",
       "    </tr>\n",
       "  </thead>\n",
       "  <tbody>\n",
       "    <tr>\n",
       "      <th>0</th>\n",
       "      <td>Sub_County</td>\n",
       "      <td>2021</td>\n",
       "      <td>Tennessee</td>\n",
       "      <td>4700190002</td>\n",
       "      <td>District 1, Anderson County, Tennessee</td>\n",
       "      <td>3760</td>\n",
       "      <td>586</td>\n",
       "      <td>1079</td>\n",
       "      <td>2095</td>\n",
       "      <td>5-Year</td>\n",
       "    </tr>\n",
       "    <tr>\n",
       "      <th>1</th>\n",
       "      <td>Sub_County</td>\n",
       "      <td>2021</td>\n",
       "      <td>Tennessee</td>\n",
       "      <td>4700190192</td>\n",
       "      <td>District 2, Anderson County, Tennessee</td>\n",
       "      <td>4371</td>\n",
       "      <td>859</td>\n",
       "      <td>920</td>\n",
       "      <td>2592</td>\n",
       "      <td>5-Year</td>\n",
       "    </tr>\n",
       "    <tr>\n",
       "      <th>2</th>\n",
       "      <td>Sub_County</td>\n",
       "      <td>2021</td>\n",
       "      <td>Tennessee</td>\n",
       "      <td>4700190382</td>\n",
       "      <td>District 3, Anderson County, Tennessee</td>\n",
       "      <td>4085</td>\n",
       "      <td>342</td>\n",
       "      <td>1320</td>\n",
       "      <td>2423</td>\n",
       "      <td>5-Year</td>\n",
       "    </tr>\n",
       "    <tr>\n",
       "      <th>3</th>\n",
       "      <td>Sub_County</td>\n",
       "      <td>2021</td>\n",
       "      <td>Tennessee</td>\n",
       "      <td>4700190572</td>\n",
       "      <td>District 4, Anderson County, Tennessee</td>\n",
       "      <td>3512</td>\n",
       "      <td>798</td>\n",
       "      <td>973</td>\n",
       "      <td>1741</td>\n",
       "      <td>5-Year</td>\n",
       "    </tr>\n",
       "    <tr>\n",
       "      <th>4</th>\n",
       "      <td>Sub_County</td>\n",
       "      <td>2021</td>\n",
       "      <td>Tennessee</td>\n",
       "      <td>4700190762</td>\n",
       "      <td>District 5, Anderson County, Tennessee</td>\n",
       "      <td>3476</td>\n",
       "      <td>593</td>\n",
       "      <td>990</td>\n",
       "      <td>1893</td>\n",
       "      <td>5-Year</td>\n",
       "    </tr>\n",
       "  </tbody>\n",
       "</table>\n",
       "</div>"
      ],
      "text/plain": [
       "  Geography type  Year      State      GEO_ID                                    NAME  Households  Poverty Households  ALICE Households  \\\n",
       "0     Sub_County  2021  Tennessee  4700190002  District 1, Anderson County, Tennessee        3760                 586              1079   \n",
       "1     Sub_County  2021  Tennessee  4700190192  District 2, Anderson County, Tennessee        4371                 859               920   \n",
       "2     Sub_County  2021  Tennessee  4700190382  District 3, Anderson County, Tennessee        4085                 342              1320   \n",
       "3     Sub_County  2021  Tennessee  4700190572  District 4, Anderson County, Tennessee        3512                 798               973   \n",
       "4     Sub_County  2021  Tennessee  4700190762  District 5, Anderson County, Tennessee        3476                 593               990   \n",
       "\n",
       "   Above ALICE Households Source: American Community Survey   \n",
       "0                    2095                             5-Year  \n",
       "1                    2592                             5-Year  \n",
       "2                    2423                             5-Year  \n",
       "3                    1741                             5-Year  \n",
       "4                    1893                             5-Year  "
      ]
     },
     "execution_count": 23,
     "metadata": {},
     "output_type": "execute_result"
    }
   ],
   "source": [
    "sub.head()"
   ]
  },
  {
   "cell_type": "code",
   "execution_count": 22,
   "id": "527d6b98",
   "metadata": {},
   "outputs": [],
   "source": [
    "dic = {'US_States': 'State', 'GEO.id2': 'GEO_ID', 'GEO.display_label': 'NAME'}\n",
    "sub = sub.rename(columns = dic)"
   ]
  },
  {
   "cell_type": "code",
   "execution_count": 20,
   "id": "6cc91c00",
   "metadata": {},
   "outputs": [
    {
     "data": {
      "text/plain": [
       "3749"
      ]
     },
     "execution_count": 20,
     "metadata": {},
     "output_type": "execute_result"
    }
   ],
   "source": [
    "#export to the SQLite database\n",
    "conn = sq.connect('../Outputs/ALICE.db')\n",
    "county.to_sql('ALICE_County', conn, if_exists = 'replace', index = False)\n",
    "sub.to_sql('ALICE_SubCounty', conn, if_exists = 'replace', index = False)"
   ]
  },
  {
   "cell_type": "markdown",
   "id": "755f0213",
   "metadata": {},
   "source": [
    "Find state here: https://unitedforalice.org/state-overview/Tennessee"
   ]
  },
  {
   "cell_type": "code",
   "execution_count": null,
   "id": "a215ce23",
   "metadata": {},
   "outputs": [],
   "source": []
  }
 ],
 "metadata": {
  "kernelspec": {
   "display_name": "Python 3 (ipykernel)",
   "language": "python",
   "name": "python3"
  },
  "language_info": {
   "codemirror_mode": {
    "name": "ipython",
    "version": 3
   },
   "file_extension": ".py",
   "mimetype": "text/x-python",
   "name": "python",
   "nbconvert_exporter": "python",
   "pygments_lexer": "ipython3",
   "version": "3.11.5"
  }
 },
 "nbformat": 4,
 "nbformat_minor": 5
}
